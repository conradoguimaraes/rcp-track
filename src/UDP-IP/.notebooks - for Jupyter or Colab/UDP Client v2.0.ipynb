{
 "cells": [
  {
   "cell_type": "markdown",
   "id": "3e092685",
   "metadata": {},
   "source": [
    "# UDP Client v2.0\n",
    "\n",
    "Created on Mon Mar 28 15:32:46 2022\n",
    "\n",
    "@author: Conrado\n",
    "\n",
    "Version: 2.0\n",
    "\n",
    "**What it is:** UDP Client\n",
    "\n",
    "**What it does:**\n",
    "\n",
    "    1) Creates a Socket with certain parameters\n",
    "    2) Sends a Message to the Server (v1.0)\n",
    "    3) Waits for the Server's Reply\n",
    "    4)  repeat n.ยบ 2\n",
    "    \n",
    "    OBS: The cycle ends after the Message #100"
   ]
  },
  {
   "cell_type": "markdown",
   "id": "4184eb63",
   "metadata": {},
   "source": [
    "## 1 - Imports and Parameters"
   ]
  },
  {
   "cell_type": "code",
   "execution_count": 3,
   "id": "ad3f277a",
   "metadata": {},
   "outputs": [],
   "source": [
    "import socket\n",
    "import time\n",
    "delay = 5\n",
    "count = 0\n",
    "\n",
    "#-----------------------------------------------------------------------------\n",
    "#Connection Parameters:\n",
    "port = 54321\n",
    "serverAddressPort = (\"127.0.0.1\", port)\n",
    "bufferSize = 1024"
   ]
  },
  {
   "cell_type": "markdown",
   "id": "fe3de1f1",
   "metadata": {},
   "source": [
    "## 2 - Create Socket and Assign Port and Address"
   ]
  },
  {
   "cell_type": "code",
   "execution_count": null,
   "id": "0768e3d8",
   "metadata": {},
   "outputs": [],
   "source": [
    "# Create a UDP socket at client side\n",
    "UDPClientSocket = socket.socket(family=socket.AF_INET, type=socket.SOCK_DGRAM)"
   ]
  },
  {
   "cell_type": "markdown",
   "id": "b2f50ff7",
   "metadata": {},
   "source": [
    "## 3 - Functions"
   ]
  },
  {
   "cell_type": "markdown",
   "id": "9ff994fa",
   "metadata": {},
   "source": [
    "### 3.1 - Send Message Function"
   ]
  },
  {
   "cell_type": "code",
   "execution_count": null,
   "id": "90a0cc30",
   "metadata": {},
   "outputs": [],
   "source": [
    "def sendMessage(count):\n",
    "    msgFromClient = \"This is the Message #\" + str(count)\n",
    "    bytesToSend = str.encode(msgFromClient) #Encode Message to Bytes\n",
    "    \n",
    "    # Send to server using created UDP socket\n",
    "    #print(\"Sending message to Server...\")\n",
    "    UDPClientSocket.sendto(bytesToSend, serverAddressPort)\n",
    "    print(\"Message sent.\")\n",
    "    return"
   ]
  },
  {
   "cell_type": "markdown",
   "id": "cca69412",
   "metadata": {},
   "source": [
    "### 3.2 - Receive Reply Function"
   ]
  },
  {
   "cell_type": "code",
   "execution_count": null,
   "id": "313066ca",
   "metadata": {},
   "outputs": [],
   "source": [
    "# Waits for Server's REPLY:\n",
    "def receiveReply():\n",
    "    print(\"Waiting for Server's REPLY...\")\n",
    "    msgFromServer = UDPClientSocket.recvfrom(bufferSize)\n",
    "    \n",
    "    \n",
    "    #Display Received Message:\n",
    "    msg = \"Message from Server {}\".format(msgFromServer[0])\n",
    "    print(msg)\n",
    "    return"
   ]
  },
  {
   "cell_type": "markdown",
   "id": "e80270c4",
   "metadata": {},
   "source": [
    "## 4 - Keep sending the same Message with a certain delay"
   ]
  },
  {
   "cell_type": "code",
   "execution_count": null,
   "id": "3530f767",
   "metadata": {},
   "outputs": [],
   "source": [
    "while (count <= 100):\n",
    "    sendMessage(count)\n",
    "    count += 1\n",
    "    receiveReply()\n",
    "    time.sleep(delay)"
   ]
  }
 ],
 "metadata": {
  "kernelspec": {
   "display_name": "Python 3 (ipykernel)",
   "language": "python",
   "name": "python3"
  },
  "language_info": {
   "codemirror_mode": {
    "name": "ipython",
    "version": 3
   },
   "file_extension": ".py",
   "mimetype": "text/x-python",
   "name": "python",
   "nbconvert_exporter": "python",
   "pygments_lexer": "ipython3",
   "version": "3.7.11"
  }
 },
 "nbformat": 4,
 "nbformat_minor": 5
}
