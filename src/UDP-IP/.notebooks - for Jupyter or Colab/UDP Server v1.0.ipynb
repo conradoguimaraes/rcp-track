{
 "cells": [
  {
   "cell_type": "markdown",
   "id": "ceac25b1",
   "metadata": {},
   "source": [
    "# UDP Server v1.0\n",
    "\n",
    "Created on Mon Mar 28 15:40:47 2022\n",
    "\n",
    "@author: Conrado\n",
    "\n",
    "**Version: 1.0**\n",
    "\n",
    "**What it is:** UDP Server\n",
    "\n",
    "**What it does:**\n",
    "\n",
    "    1) Creates a Socket with certain parameters\n",
    "\n",
    "    2) Keeps waiting for a Message sent by a Client\n",
    "\n",
    "    3) Prints, to the terminal, the Client Messange and IP/Port"
   ]
  },
  {
   "cell_type": "markdown",
   "id": "5c0d37ec",
   "metadata": {},
   "source": [
    "## 1 - Imports and Parameters"
   ]
  },
  {
   "cell_type": "code",
   "execution_count": null,
   "id": "e7a80a4a",
   "metadata": {},
   "outputs": [],
   "source": [
    "import socket\n",
    "\n",
    "#-----------------------------------------------------------------------------\n",
    "#Connection Parameters:\n",
    "localIP = \"127.0.0.1\"\n",
    "port = 54321\n",
    "bufferSize = 1024\n",
    "#-----------------------------------------------------------------------------\n",
    "\n",
    "\n",
    "msgFromServer = \"Hello UDP Client\" #Standard REPLY Message\n",
    "bytesToSend = str.encode(msgFromServer) #Encode String to Bytes"
   ]
  },
  {
   "cell_type": "markdown",
   "id": "9bd6108a",
   "metadata": {},
   "source": [
    "## 2 - Create Socket and Assign Port and Address"
   ]
  },
  {
   "cell_type": "code",
   "execution_count": null,
   "id": "5602dd69",
   "metadata": {},
   "outputs": [],
   "source": [
    "# Create a Socket\n",
    "UDPServerSocket = socket.socket(family=socket.AF_INET, type=socket.SOCK_DGRAM)\n",
    "\n",
    "# Bind to Address and IP\n",
    "UDPServerSocket.bind((localIP, port))\n",
    "\n",
    "print(\"UDP Server READY!\\n\")"
   ]
  },
  {
   "cell_type": "markdown",
   "id": "b8591a9c",
   "metadata": {},
   "source": [
    "## 3 - Listen for incoming messages"
   ]
  },
  {
   "cell_type": "code",
   "execution_count": null,
   "id": "e8101f45",
   "metadata": {},
   "outputs": [],
   "source": [
    "while(True):\n",
    "\n",
    "    bytesAddressPair = UDPServerSocket.recvfrom(bufferSize)\n",
    "\n",
    "    message = bytesAddressPair[0]\n",
    "    address = bytesAddressPair[1] #tuple (address, port)\n",
    "    \n",
    "    #-------------------------------------------------------------------------        \n",
    "    #clientMsg = \"\\t> Message Received from Client:{}\".format(message)\n",
    "    clientMsg = \"\\t> Message Received from Client: \" + message.decode(\"utf-8\")\n",
    "    clientIP  = \"\\t> Client IP Address:{}\".format(address)\n",
    "    \n",
    "    print(clientMsg)\n",
    "    print(clientIP)\n",
    "    print(\"\\n\")\n",
    "    #-------------------------------------------------------------------------\n",
    "   \n",
    "    # Sending a REPLY to client\n",
    "    UDPServerSocket.sendto(bytesToSend, address)"
   ]
  }
 ],
 "metadata": {
  "kernelspec": {
   "display_name": "Python 3 (ipykernel)",
   "language": "python",
   "name": "python3"
  },
  "language_info": {
   "codemirror_mode": {
    "name": "ipython",
    "version": 3
   },
   "file_extension": ".py",
   "mimetype": "text/x-python",
   "name": "python",
   "nbconvert_exporter": "python",
   "pygments_lexer": "ipython3",
   "version": "3.7.11"
  }
 },
 "nbformat": 4,
 "nbformat_minor": 5
}
