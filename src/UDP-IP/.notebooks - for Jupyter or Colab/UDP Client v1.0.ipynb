{
 "cells": [
  {
   "cell_type": "markdown",
   "id": "bf9fb9bd",
   "metadata": {},
   "source": [
    "# UDP Client v1.0\n",
    "\n",
    "Created on Mon Mar 28 15:32:46 2022\n",
    "\n",
    "@author: Conrado\n",
    "\n",
    "Version: 1.0\n",
    "\n",
    "**What it is:** UDP Client\n",
    "\n",
    "**What it does:**\n",
    "\n",
    "    1) Creates a Socket with certain parameters\n",
    "    2) Sends a Message inserted by the User at the Terminal\n",
    "    3) Receives a Message (Server Reply) and prints it to the terminal"
   ]
  },
  {
   "cell_type": "markdown",
   "id": "66b36c13",
   "metadata": {},
   "source": [
    "## 1 - Imports and Parameters"
   ]
  },
  {
   "cell_type": "code",
   "execution_count": null,
   "id": "a635fdc4",
   "metadata": {},
   "outputs": [],
   "source": [
    "import socket\n",
    "\n",
    "#-----------------------------------------------------------------------------\n",
    "#Connection Parameters:\n",
    "port = 54321\n",
    "serverAddressPort = (\"127.0.0.1\", port)\n",
    "bufferSize = 1024\n",
    "#-----------------------------------------------------------------------------\n",
    "print(\"Type the message you want to send to the UDP Server: \")\n",
    "msgFromClient = input(\"  > \")\n",
    "bytesToSend = str.encode(msgFromClient) #Encode Message to Bytes"
   ]
  },
  {
   "cell_type": "markdown",
   "id": "1d268104",
   "metadata": {},
   "source": [
    "## 2 - Create Socket and Assign Port and Address"
   ]
  },
  {
   "cell_type": "code",
   "execution_count": null,
   "id": "d167e1f1",
   "metadata": {},
   "outputs": [],
   "source": [
    "# Create a UDP socket at client side\n",
    "UDPClientSocket = socket.socket(family=socket.AF_INET, type=socket.SOCK_DGRAM)"
   ]
  },
  {
   "cell_type": "markdown",
   "id": "42c9a86e",
   "metadata": {},
   "source": [
    "## 3 - Send Message to Server"
   ]
  },
  {
   "cell_type": "code",
   "execution_count": null,
   "id": "a15365e8",
   "metadata": {},
   "outputs": [],
   "source": [
    "# Send to server using created UDP socket\n",
    "print(\"Sending message to Server...\")\n",
    "UDPClientSocket.sendto(bytesToSend, serverAddressPort)\n",
    "print(\"Message sent.\")"
   ]
  },
  {
   "cell_type": "markdown",
   "id": "5f82936f",
   "metadata": {},
   "source": [
    "## 4 - Wait for Reply"
   ]
  },
  {
   "cell_type": "code",
   "execution_count": null,
   "id": "d41a0248",
   "metadata": {},
   "outputs": [],
   "source": [
    "# Waits for Server's REPLY:\n",
    "print(\"Waiting for Server's REPLY...\")\n",
    "msgFromServer = UDPClientSocket.recvfrom(bufferSize)"
   ]
  },
  {
   "cell_type": "markdown",
   "id": "34051b1d",
   "metadata": {},
   "source": [
    "## 5 - Print received message"
   ]
  },
  {
   "cell_type": "code",
   "execution_count": null,
   "id": "e778ce2a",
   "metadata": {},
   "outputs": [],
   "source": [
    "#Display Received Message:\n",
    "msg = \"Message from Server {}\".format(msgFromServer[0])\n",
    "print(msg)"
   ]
  }
 ],
 "metadata": {
  "kernelspec": {
   "display_name": "Python 3 (ipykernel)",
   "language": "python",
   "name": "python3"
  },
  "language_info": {
   "codemirror_mode": {
    "name": "ipython",
    "version": 3
   },
   "file_extension": ".py",
   "mimetype": "text/x-python",
   "name": "python",
   "nbconvert_exporter": "python",
   "pygments_lexer": "ipython3",
   "version": "3.7.11"
  }
 },
 "nbformat": 4,
 "nbformat_minor": 5
}
