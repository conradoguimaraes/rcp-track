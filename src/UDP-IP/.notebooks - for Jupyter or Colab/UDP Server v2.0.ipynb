{
 "cells": [
  {
   "cell_type": "markdown",
   "id": "c5683325",
   "metadata": {},
   "source": [
    "# UDP Server v2.0\n",
    "\n",
    "Created on Mon Mar 28 15:40:47 2022\n",
    "\n",
    "@author: Conrado\n",
    "\n",
    "Version: 2.0\n",
    "\n",
    "**What it is:** UDP Server\n",
    "\n",
    "**What it does:**\n",
    "    \n",
    "    1) Creates a Socket with certain parameters\n",
    "    2) Executes 3 parallel-independent threads:\n",
    "        #Thread-1 - keeps listening at UDP assigned Port\n",
    "        #Thread-2 - generate random STR and INT\n",
    "        #Thread-3 - does something after x amount of time"
   ]
  },
  {
   "cell_type": "markdown",
   "id": "f9e3d35a",
   "metadata": {},
   "source": [
    "# 1 - Imports and Parameters"
   ]
  },
  {
   "cell_type": "code",
   "execution_count": null,
   "id": "f386b006",
   "metadata": {},
   "outputs": [],
   "source": [
    "import socket\n",
    "import threading\n",
    "import ClientOrderFunctions as COF\n",
    "\n",
    "#Connection Parameters:\n",
    "localIP = \"127.0.0.1\"\n",
    "port = 54321\n",
    "bufferSize = 1024\n",
    "\n",
    "\n",
    "msgFromServer = \"Hello UDP Client\" #Standard REPLY Message\n",
    "bytesToSend = str.encode(msgFromServer) #Encode String to Bytes"
   ]
  },
  {
   "cell_type": "markdown",
   "id": "41d6bc38",
   "metadata": {},
   "source": [
    "# 2 - Create Socket and Assign Port and Address"
   ]
  },
  {
   "cell_type": "code",
   "execution_count": null,
   "id": "0b4369e8",
   "metadata": {},
   "outputs": [],
   "source": [
    "# Create a Socket\n",
    "UDPServerSocket = socket.socket(family=socket.AF_INET, type=socket.SOCK_DGRAM)\n",
    "\n",
    "# Bind to Address and IP\n",
    "UDPServerSocket.bind((localIP, port))\n",
    "\n",
    "print(\"UDP Server READY!\\n\")"
   ]
  },
  {
   "cell_type": "markdown",
   "id": "cc4f79ef",
   "metadata": {},
   "source": [
    "# 3 - Threads Functions"
   ]
  },
  {
   "cell_type": "markdown",
   "id": "697b424b",
   "metadata": {},
   "source": [
    "## 3.1 - Thread 1"
   ]
  },
  {
   "cell_type": "code",
   "execution_count": null,
   "id": "98641ce5",
   "metadata": {},
   "outputs": [],
   "source": [
    "#Thread-1\n",
    "\n",
    "# Listen for incoming messages\n",
    "def listenIO_handler(SSocket):\n",
    "    '''\n",
    "    Handler that allows constant Port listening, and other functions if needed.\n",
    "    Handler helps killing the thread.\n",
    "    \n",
    "    [INPUT]: UDP Server Socket (SSocket) Object\n",
    "    \n",
    "    '''\n",
    "    global flag, data\n",
    "    while True:\n",
    "        flag, data = listenIO(SSocket)\n",
    "    \n",
    "    \n",
    "    if flag:\n",
    "        print(\"Valid Order Arrived!\")\n",
    "    \n",
    "    return"
   ]
  },
  {
   "cell_type": "code",
   "execution_count": null,
   "id": "dd703bef",
   "metadata": {},
   "outputs": [],
   "source": [
    "def listenIO(SSocket):\n",
    "    '''\n",
    "    [INPUT]: UDP Server Socket (SSocket) Object\n",
    "    [OUTPUT]:\n",
    "        -> True and clientMsg if \"<order>\" exists\n",
    "        -> False and \"\" if \"<order>\" doesn't exist\n",
    "    '''\n",
    "    try:\n",
    "        bytesAddressPair = SSocket.recvfrom(bufferSize)\n",
    "    \n",
    "        message = bytesAddressPair[0]\n",
    "        address = bytesAddressPair[1] #tuple (address, port)\n",
    "        \n",
    "        #-------------------------------------------------------------------------        \n",
    "        #clientMsg = \"\\t> Message Received from Client:{}\".format(message)\n",
    "        clientMsg = \"\\t> Message Received from Client: \" + message.decode(\"utf-8\")\n",
    "        clientIP  = \"\\t> Client IP Address:{}\".format(address)\n",
    "        \n",
    "        print(clientMsg)\n",
    "        print(clientIP)\n",
    "        print(\"\\n\")\n",
    "        #-------------------------------------------------------------------------\n",
    "       \n",
    "        # Sending a REPLY to client\n",
    "        UDPServerSocket.sendto(bytesToSend, address)\n",
    "        \n",
    "        \n",
    "        if (COF.numberOfOrders(clientMsg) > 0):\n",
    "            #Extract number of Orders inside the Client Message\n",
    "            return True, clientMsg\n",
    "        else:\n",
    "            return False, \"\"\n",
    "\n",
    "    except:\n",
    "        return False, \"\""
   ]
  },
  {
   "cell_type": "markdown",
   "id": "be2c4163",
   "metadata": {},
   "source": [
    "## 3.2 - Thread 2"
   ]
  },
  {
   "cell_type": "code",
   "execution_count": null,
   "id": "a98555f6",
   "metadata": {},
   "outputs": [],
   "source": [
    "#Thread-2\n",
    "import string\n",
    "import random\n",
    "\n",
    "def generateRnd_handler(length):\n",
    "    '''\n",
    "    Handler that allows constant rand. String and rand. Integer production\n",
    "    Handler helps killing the thread.\n",
    "    [INPUT]: Length [INT] of the desired String \n",
    "    '''\n",
    "    while True:\n",
    "        generateRndSTR(length)\n",
    "        \n",
    "    return"
   ]
  },
  {
   "cell_type": "code",
   "execution_count": null,
   "id": "816f6905",
   "metadata": {},
   "outputs": [],
   "source": [
    "def generateRndSTR(length):\n",
    "    #This is just a Dummy Function to assign to a Thread\n",
    "    '''\n",
    "    If the Random Integer is inside a certain interval, print the random local variables\n",
    "    [INPUT]: Random String Length [INT]\n",
    "    [OUTPUT]: -\n",
    "    '''\n",
    "    characters = string.ascii_letters + string.digits\n",
    "    randomSTR = ''.join(random.choice(characters) for i in range(length))\n",
    "    randomINT = random.randint(0,100000)\n",
    "    \n",
    "    if (randomINT == 0 or randomINT == 1):\n",
    "        print(\"%d > %s\" % (randomINT, randomSTR))\n",
    "    \n",
    "    return "
   ]
  },
  {
   "cell_type": "markdown",
   "id": "167ee9a1",
   "metadata": {},
   "source": [
    "## 3.3 - Thread 3"
   ]
  },
  {
   "cell_type": "code",
   "execution_count": null,
   "id": "7ead7bee",
   "metadata": {},
   "outputs": [],
   "source": [
    "#Thread-3\n",
    "import time\n",
    "\n",
    "def reminder_handler(delay):\n",
    "    '''\n",
    "    Handler that does something (print string) with a certain delay\n",
    "    Handler helps killing the thread.\n",
    "    [INPUT]: delay [INT] in seconds\n",
    "    '''\n",
    "    while True:\n",
    "        reminder(delay)\n",
    "    \n",
    "    return"
   ]
  },
  {
   "cell_type": "code",
   "execution_count": null,
   "id": "91fe38d3",
   "metadata": {},
   "outputs": [],
   "source": [
    "def reminder(dt):\n",
    "    '''\n",
    "    Put execution (in our case the Thread) to sleep for a certain amount of seconds\n",
    "    [INPUT]: delay [INT]\n",
    "    '''\n",
    "    time.sleep(dt)\n",
    "    print(\"\\n[!!!!] Don't forget to save your work!\\n\")\n",
    "    return"
   ]
  },
  {
   "cell_type": "markdown",
   "id": "939521f1",
   "metadata": {},
   "source": [
    "# 4 - Assign and Start Threads"
   ]
  },
  {
   "cell_type": "code",
   "execution_count": null,
   "id": "5350ae54",
   "metadata": {},
   "outputs": [],
   "source": [
    "#Assign Threads:\n",
    "thread1 = threading.Thread(target = listenIO_handler, args=[UDPServerSocket])\n",
    "thread2 = threading.Thread(target = generateRnd_handler, args=[4])\n",
    "thread3 = threading.Thread(target = reminder_handler, args=[4])\n",
    "\n",
    "#Start Threads:\n",
    "thread1.start()\n",
    "thread2.start()\n",
    "thread3.start()"
   ]
  }
 ],
 "metadata": {
  "kernelspec": {
   "display_name": "Python 3 (ipykernel)",
   "language": "python",
   "name": "python3"
  },
  "language_info": {
   "codemirror_mode": {
    "name": "ipython",
    "version": 3
   },
   "file_extension": ".py",
   "mimetype": "text/x-python",
   "name": "python",
   "nbconvert_exporter": "python",
   "pygments_lexer": "ipython3",
   "version": "3.7.11"
  }
 },
 "nbformat": 4,
 "nbformat_minor": 5
}
