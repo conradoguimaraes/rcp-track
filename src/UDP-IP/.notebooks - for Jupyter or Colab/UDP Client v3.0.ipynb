{
 "cells": [
  {
   "cell_type": "markdown",
   "id": "ff74c66a",
   "metadata": {},
   "source": [
    "# UDP Client v3.0\n",
    "Created on Mon Mar 28 15:32:46 2022\n",
    "\n",
    "@author: Conrado\n",
    "\n",
    "Version: 3.0\n",
    "\n",
    "**What it is:** UDP Client\n",
    "\n",
    "**What it does:**\n",
    "    \n",
    "    1) Creates a Socket with certain parameters\n",
    "    2) Reads XML File\n",
    "    3) Encodes XML File\n",
    "    4) Sends the Encoded XML Data to the Server (v2.0)\n",
    "    3) Waits for the Server's Reply"
   ]
  },
  {
   "cell_type": "markdown",
   "id": "e7060745",
   "metadata": {},
   "source": [
    "# 1 - Imports and Parameters"
   ]
  },
  {
   "cell_type": "code",
   "execution_count": null,
   "id": "86adef84",
   "metadata": {},
   "outputs": [],
   "source": [
    "#Connection Parameters:\n",
    "port = 54321\n",
    "serverAddressPort = (\"127.0.0.1\", port)\n",
    "bufferSize = 1024"
   ]
  },
  {
   "cell_type": "markdown",
   "id": "1e7d1351",
   "metadata": {},
   "source": [
    "# 2 - Create Socket and Assign Port and Address"
   ]
  },
  {
   "cell_type": "code",
   "execution_count": null,
   "id": "57769740",
   "metadata": {},
   "outputs": [],
   "source": [
    "# Create a UDP socket at client side\n",
    "UDPClientSocket = socket.socket(family=socket.AF_INET, type=socket.SOCK_DGRAM)"
   ]
  },
  {
   "cell_type": "markdown",
   "id": "dbab5541",
   "metadata": {},
   "source": [
    "# 3 - Functions"
   ]
  },
  {
   "cell_type": "markdown",
   "id": "af835eba",
   "metadata": {},
   "source": [
    "## 3.1 - Send Message Function"
   ]
  },
  {
   "cell_type": "code",
   "execution_count": null,
   "id": "f36a9e77",
   "metadata": {},
   "outputs": [],
   "source": [
    "def sendMessage(XMLdata):\n",
    "\n",
    "    bytesToSend = str.encode(XMLdata) #Encode Message to Bytes\n",
    "    \n",
    "    # Send to server using created UDP socket\n",
    "    print(\"Sending message to Server...\")\n",
    "    UDPClientSocket.sendto(bytesToSend, serverAddressPort)\n",
    "    print(\"Message sent.\")\n",
    "    return"
   ]
  },
  {
   "cell_type": "markdown",
   "id": "96b4edb3",
   "metadata": {},
   "source": [
    "## 3.2 - Receive Reply Function"
   ]
  },
  {
   "cell_type": "code",
   "execution_count": null,
   "id": "47860ad7",
   "metadata": {},
   "outputs": [],
   "source": [
    "# Waits for Server's REPLY:\n",
    "def receiveReply():\n",
    "    print(\"Waiting for Server's REPLY...\")\n",
    "    msgFromServer = UDPClientSocket.recvfrom(bufferSize)\n",
    "    \n",
    "    \n",
    "    #Display Received Message:\n",
    "    msg = \"Message from Server {}\".format(msgFromServer[0])\n",
    "    print(msg)\n",
    "    return"
   ]
  },
  {
   "cell_type": "markdown",
   "id": "9c8afb3f",
   "metadata": {},
   "source": [
    "# 4 - Read XML File and Send it"
   ]
  },
  {
   "cell_type": "code",
   "execution_count": null,
   "id": "d121bd1d",
   "metadata": {},
   "outputs": [],
   "source": [
    "fileName = input(\">Type the XML filename: > \") #Get file name\n",
    "\n",
    "#Add File extension if not inserted by the user\n",
    "if ((\".xml\" or \".XML\") not in fileName):\n",
    "    fileName = fileName + \".xml\"\n",
    "\n",
    "with open(fileName) as fid:\n",
    "    FileData = fid.read()\n",
    "\n",
    "input(\"> Press any key to send the message...\")    \n",
    "sendMessage(FileData)"
   ]
  }
 ],
 "metadata": {
  "kernelspec": {
   "display_name": "Python 3 (ipykernel)",
   "language": "python",
   "name": "python3"
  },
  "language_info": {
   "codemirror_mode": {
    "name": "ipython",
    "version": 3
   },
   "file_extension": ".py",
   "mimetype": "text/x-python",
   "name": "python",
   "nbconvert_exporter": "python",
   "pygments_lexer": "ipython3",
   "version": "3.7.11"
  }
 },
 "nbformat": 4,
 "nbformat_minor": 5
}
